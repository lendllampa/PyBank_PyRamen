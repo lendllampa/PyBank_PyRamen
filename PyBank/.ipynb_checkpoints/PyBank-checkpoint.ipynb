{
 "cells": [
  {
   "cell_type": "code",
   "execution_count": 1,
   "id": "a6622cf0-ffa5-44e5-a479-51d0ef3587a3",
   "metadata": {},
   "outputs": [],
   "source": [
    "import pandas as pd\n",
    "from pathlib import Path"
   ]
  },
  {
   "cell_type": "code",
   "execution_count": 2,
   "id": "fde2333f-e4f5-4ee3-b559-5901c63f349f",
   "metadata": {},
   "outputs": [],
   "source": [
    "# Set path for the budget csv\n",
    "path = Path(\"Resources/budget_data.csv\")"
   ]
  },
  {
   "cell_type": "code",
   "execution_count": 3,
   "id": "62bcb237-0f63-4408-9fe0-c74feb04d7b3",
   "metadata": {},
   "outputs": [
    {
     "data": {
      "text/html": [
       "<div>\n",
       "<style scoped>\n",
       "    .dataframe tbody tr th:only-of-type {\n",
       "        vertical-align: middle;\n",
       "    }\n",
       "\n",
       "    .dataframe tbody tr th {\n",
       "        vertical-align: top;\n",
       "    }\n",
       "\n",
       "    .dataframe thead th {\n",
       "        text-align: right;\n",
       "    }\n",
       "</style>\n",
       "<table border=\"1\" class=\"dataframe\">\n",
       "  <thead>\n",
       "    <tr style=\"text-align: right;\">\n",
       "      <th></th>\n",
       "      <th>Date</th>\n",
       "      <th>Profit/Losses</th>\n",
       "    </tr>\n",
       "  </thead>\n",
       "  <tbody>\n",
       "    <tr>\n",
       "      <th>0</th>\n",
       "      <td>Jan-2010</td>\n",
       "      <td>867884</td>\n",
       "    </tr>\n",
       "    <tr>\n",
       "      <th>1</th>\n",
       "      <td>Feb-2010</td>\n",
       "      <td>984655</td>\n",
       "    </tr>\n",
       "    <tr>\n",
       "      <th>2</th>\n",
       "      <td>Mar-2010</td>\n",
       "      <td>322013</td>\n",
       "    </tr>\n",
       "    <tr>\n",
       "      <th>3</th>\n",
       "      <td>Apr-2010</td>\n",
       "      <td>-69417</td>\n",
       "    </tr>\n",
       "    <tr>\n",
       "      <th>4</th>\n",
       "      <td>May-2010</td>\n",
       "      <td>310503</td>\n",
       "    </tr>\n",
       "  </tbody>\n",
       "</table>\n",
       "</div>"
      ],
      "text/plain": [
       "       Date  Profit/Losses\n",
       "0  Jan-2010         867884\n",
       "1  Feb-2010         984655\n",
       "2  Mar-2010         322013\n",
       "3  Apr-2010         -69417\n",
       "4  May-2010         310503"
      ]
     },
     "execution_count": 3,
     "metadata": {},
     "output_type": "execute_result"
    }
   ],
   "source": [
    "# Import csv file and set max rows to None\"\n",
    "budget_df = pd.read_csv(path)\n",
    "pd.set_option('display.max_rows', None)\n",
    "\n",
    "budget_df.head()"
   ]
  },
  {
   "cell_type": "code",
   "execution_count": 4,
   "id": "b56a3dff-38c5-40ea-ac96-4e79ad7e80db",
   "metadata": {},
   "outputs": [],
   "source": [
    "# Calculate the total number of months and total PnL\n",
    "total_months = budget_df['Date'].count()\n",
    "net_profit = budget_df['Profit/Losses'].sum()"
   ]
  },
  {
   "cell_type": "code",
   "execution_count": 5,
   "id": "5f035ee3-417e-48f1-8c08-b965e445024d",
   "metadata": {},
   "outputs": [],
   "source": [
    "# Calculates the profit change from month to month\n",
    "\n",
    "# First create a column that holds the previous month's Pnl and replace NaN values with 0\n",
    "budget_df['Pre_PnL'] = budget_df['Profit/Losses'].shift(1)\n",
    "# Then create a column that calculates the difference in PnL from month to month\n",
    "budget_df['Change'] = budget_df['Profit/Losses'] - budget_df['Pre_PnL']"
   ]
  },
  {
   "cell_type": "code",
   "execution_count": 6,
   "id": "0a64b1ec-b949-4ca2-bf7a-405ce3b7a10a",
   "metadata": {},
   "outputs": [],
   "source": [
    "# Calculate the average of the change and find the greatest increase and decrease in profit over the entire period\n",
    "\n",
    "average = budget_df['Change'].mean()\n",
    "max_increase = budget_df['Change'].max()\n",
    "max_decrease = budget_df['Change'].min()"
   ]
  },
  {
   "cell_type": "code",
   "execution_count": 7,
   "id": "f20a2471-7152-4cf7-a042-340cdaf80fd1",
   "metadata": {},
   "outputs": [],
   "source": [
    "# Locate the Date of the max increase and decrease values\n",
    "\n",
    "# First locate the index that matches the max and min increase\n",
    "inc_index = budget_df[budget_df['Change'] == max_increase].index.values[0]\n",
    "dec_index = budget_df[budget_df['Change'] == max_decrease].index.values[0]\n",
    "\n",
    "# Use the index to locate the Date\n",
    "inc_date = budget_df['Date'][inc_index]\n",
    "dec_date = budget_df['Date'][dec_index]"
   ]
  },
  {
   "cell_type": "code",
   "execution_count": 8,
   "id": "896e8ced-95ea-4b20-bf5a-d196065b432d",
   "metadata": {},
   "outputs": [
    {
     "name": "stdout",
     "output_type": "stream",
     "text": [
      "Financial Analysis\n",
      "-----------------------------------------\n",
      "Total Months: 86\n",
      "Total: $38,382,578\n",
      "Averge Change: $-2,315.12\n",
      "Greatest Increase in Profits: Feb-2012 ($1,926,159.00)\n",
      "Greatest Decrease in Profits: Sep-2013 ($-2,196,167.00)\n"
     ]
    }
   ],
   "source": [
    "print(\"Financial Analysis\")\n",
    "print('-----------------------------------------')\n",
    "print(f'Total Months: {total_months}')\n",
    "print(f'Total: ${net_profit:,}')\n",
    "print(f'Averge Change: ${average:,.2f}')\n",
    "print(f'Greatest Increase in Profits: {inc_date} (${max_increase:,.2f})')\n",
    "print(f'Greatest Decrease in Profits: {dec_date} (${max_decrease:,.2f})')"
   ]
  },
  {
   "cell_type": "code",
   "execution_count": null,
   "id": "72b19f9a-558a-4372-af55-cc475d4c6dd3",
   "metadata": {},
   "outputs": [],
   "source": []
  }
 ],
 "metadata": {
  "kernelspec": {
   "display_name": "Python 3 (ipykernel)",
   "language": "python",
   "name": "python3"
  },
  "language_info": {
   "codemirror_mode": {
    "name": "ipython",
    "version": 3
   },
   "file_extension": ".py",
   "mimetype": "text/x-python",
   "name": "python",
   "nbconvert_exporter": "python",
   "pygments_lexer": "ipython3",
   "version": "3.7.13"
  }
 },
 "nbformat": 4,
 "nbformat_minor": 5
}
