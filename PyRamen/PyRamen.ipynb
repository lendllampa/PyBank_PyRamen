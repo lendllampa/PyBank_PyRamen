{
 "cells": [
  {
   "cell_type": "code",
   "execution_count": 1,
   "id": "0f1ba64b-f4b9-467d-a596-a8c82b06f96a",
   "metadata": {
    "tags": []
   },
   "outputs": [],
   "source": [
    "from pathlib import Path\n",
    "import csv"
   ]
  },
  {
   "cell_type": "markdown",
   "id": "d7177d0f-ed47-47bc-aadf-b6d87ed45382",
   "metadata": {},
   "source": [
    "# Read the Data"
   ]
  },
  {
   "cell_type": "code",
   "execution_count": 2,
   "id": "0d01d486-cd80-42ca-9987-f904398fefe3",
   "metadata": {},
   "outputs": [],
   "source": [
    "# Set Path for the Menu and Sales CSV\n",
    "\n",
    "menu_path = (\"Resources/menu_data.csv\")\n",
    "sales_path = (\"Resources/sales_data.csv\")"
   ]
  },
  {
   "cell_type": "code",
   "execution_count": 3,
   "id": "06d806d3-9fe5-476f-89fc-96b405f752b6",
   "metadata": {},
   "outputs": [],
   "source": [
    "# Initialize an empy menu list and sales list\n",
    "\n",
    "menu_list = []\n",
    "sales_list = []"
   ]
  },
  {
   "cell_type": "code",
   "execution_count": 4,
   "id": "baa8786b-d80d-4348-81c8-379ba1992ee2",
   "metadata": {},
   "outputs": [],
   "source": [
    "# Read in the menu data into the menu list using the with statement and open() function that takes in the file_path and mode as parameters\n",
    "# r = read, a = append, w = write, x = create\n",
    "\n",
    "with open(menu_path) as menu_data:\n",
    "    reader = csv.reader(menu_data)\n",
    "    \n",
    "    # Skip the header using the next() function\n",
    "    next(reader)\n",
    "    \n",
    "    # Loop over the rows and append to the menu list\n",
    "    for row in reader:\n",
    "        menu_list.append(row)"
   ]
  },
  {
   "cell_type": "code",
   "execution_count": 5,
   "id": "3e10ad37-7176-48f1-8e90-e0c998785edd",
   "metadata": {},
   "outputs": [],
   "source": [
    "# Read in the sales data into the sales list \n",
    "\n",
    "with open(sales_path) as sales_data:\n",
    "    reader = csv.reader(sales_data)\n",
    "    \n",
    "    next(reader)\n",
    "    \n",
    "    for row in reader:\n",
    "        sales_list.append(row)"
   ]
  },
  {
   "cell_type": "markdown",
   "id": "0975cacd-94e8-4ef4-bba7-bf6587958242",
   "metadata": {},
   "source": [
    "# Manipulate the Data"
   ]
  },
  {
   "cell_type": "code",
   "execution_count": 6,
   "id": "c45e938f-a3c3-40a1-b396-59883aa12481",
   "metadata": {
    "tags": []
   },
   "outputs": [],
   "source": [
    "# Initialize an empty report dictionary to hold the future aggregated per-product results.\n",
    "# The dictionary will eventually contain the following metrics:\n",
    "# COUNT, REVENUE, COGS, PROFIT\n",
    "\n",
    "report = {}\n",
    "\n",
    "# Initialize a row counter variable\n",
    "row_count = 0"
   ]
  },
  {
   "cell_type": "code",
   "execution_count": 7,
   "id": "69de0583-2c7c-4646-8f01-9538229a8cee",
   "metadata": {},
   "outputs": [],
   "source": [
    "# Iterate through your sales and set the quantity and menu item of each sale\n",
    "\n",
    "for row in sales_list:\n",
    "    \n",
    "    quantity = int(row[3])\n",
    "    sales_item = row[4]\n",
    "    \n",
    "    # Initialize the key-value pairs for new sales items in the report. Set the sales item as a new\n",
    "    # key to the report dictionary that containts a nested dictionary of the above metrics as its value\n",
    "    if sales_item not in report:\n",
    "        report[sales_item] = {\n",
    "            \"01-count\":0,\n",
    "            \"02-revenue\":0,\n",
    "            \"03-cogs\":0,\n",
    "            \"04-profit\":0\n",
    "        }\n",
    "    \n",
    "    # Fill in the corresponding metrics in the report if the sales item is in the menu list\n",
    "    # Itereate and set the item, price and cost, of each row and calculate the profit\n",
    "    for row in menu_list:\n",
    "        \n",
    "        item = row[0]\n",
    "        price = float(row[3])\n",
    "        cost = float(row[4])\n",
    "        \n",
    "        profit = price - cost\n",
    "        \n",
    "        # If the sales item is equal to the menu item, caputre the quantity, price and cost\n",
    "        # and cumulatively add the values to the corresponding metrics in the report\n",
    "        if sales_item == item:\n",
    "            report[sales_item][\"01-count\"] += quantity\n",
    "            report[sales_item][\"02-revenue\"] += price * quantity\n",
    "            report[sales_item][\"03-cogs\"] += cost * quantity\n",
    "            report[sales_item][\"04-profit\"] += profit * quantity\n",
    "    \n",
    "    row_count += 1"
   ]
  },
  {
   "cell_type": "code",
   "execution_count": 8,
   "id": "52f9cce6-c911-4df8-bcb9-cbac9841436f",
   "metadata": {},
   "outputs": [
    {
     "name": "stdout",
     "output_type": "stream",
     "text": [
      "Total Number of Records: 74124\n"
     ]
    }
   ],
   "source": [
    "print(f\"Total Number of Records: {row_count}\")"
   ]
  },
  {
   "cell_type": "markdown",
   "id": "347b0984-a86b-4eb7-8328-ebeca823651b",
   "metadata": {},
   "source": [
    "# Create a Report Text File"
   ]
  },
  {
   "cell_type": "code",
   "execution_count": 11,
   "id": "86fb29d7-cbd3-48c7-8950-60733ffc334c",
   "metadata": {},
   "outputs": [],
   "source": [
    "# Use the open() function to create a new file\n",
    "# Parameters: x = create, a = append\n",
    "\n",
    "sales_report = open(\"report.txt\", \"x\")"
   ]
  },
  {
   "cell_type": "code",
   "execution_count": 12,
   "id": "e5f14f94-f991-4520-943d-357117d0e50b",
   "metadata": {},
   "outputs": [],
   "source": [
    "# Write the report data into the text file\n",
    "with open(\"report.txt\", \"w\") as file:\n",
    "    # Iterate through the dictionary grab each key and value pair to print line by line\n",
    "    for key, value in report.items():\n",
    "        \n",
    "        line = f\"{key} : {value}\\n\"\n",
    "        file.write(line)\n",
    "    "
   ]
  },
  {
   "cell_type": "code",
   "execution_count": null,
   "id": "cc565092-16cd-479c-b99a-89b6645ab8c6",
   "metadata": {},
   "outputs": [],
   "source": []
  }
 ],
 "metadata": {
  "kernelspec": {
   "display_name": "Python 3 (ipykernel)",
   "language": "python",
   "name": "python3"
  },
  "language_info": {
   "codemirror_mode": {
    "name": "ipython",
    "version": 3
   },
   "file_extension": ".py",
   "mimetype": "text/x-python",
   "name": "python",
   "nbconvert_exporter": "python",
   "pygments_lexer": "ipython3",
   "version": "3.7.13"
  }
 },
 "nbformat": 4,
 "nbformat_minor": 5
}
